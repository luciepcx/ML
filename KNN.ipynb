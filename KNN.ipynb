{
 "cells": [
  {
   "cell_type": "markdown",
   "id": "a28f5d88",
   "metadata": {},
   "source": [
    "# KNN | K-Nearest Niehbor"
   ]
  },
  {
   "cell_type": "code",
   "execution_count": 1,
   "id": "f4fb5563",
   "metadata": {},
   "outputs": [],
   "source": [
    "import warnings\n",
    "warnings.filterwarnings(\"ignore\", category=FutureWarning)"
   ]
  },
  {
   "cell_type": "markdown",
   "id": "3350d42e",
   "metadata": {},
   "source": [
    "Supervised classification algorithm.\n",
    "KNN doesn't learn from the data but use the results from previous data points to classify a new observation. \n",
    "I'm using the Ridingmowers dataset"
   ]
  },
  {
   "cell_type": "markdown",
   "id": "8739b19b",
   "metadata": {},
   "source": [
    "Import the libraries"
   ]
  },
  {
   "cell_type": "code",
   "execution_count": 2,
   "id": "814e699b",
   "metadata": {},
   "outputs": [],
   "source": [
    "from sklearn.neighbors import KNeighborsClassifier\n",
    "import pandas as pd\n",
    "from sklearn.preprocessing import StandardScaler"
   ]
  },
  {
   "cell_type": "markdown",
   "id": "e6bb4bc0",
   "metadata": {},
   "source": [
    "Load data & setting target and predictors"
   ]
  },
  {
   "cell_type": "code",
   "execution_count": 3,
   "id": "30cbedfb",
   "metadata": {},
   "outputs": [],
   "source": [
    "mower_df = pd.read_csv(\"RidingMowers.csv\")\n",
    "X = mower_df.iloc[:,0:2] #predictors\n",
    "y = mower_df['Ownership'] #Target"
   ]
  },
  {
   "cell_type": "markdown",
   "id": "d6ac3beb",
   "metadata": {},
   "source": [
    "New observation to evaluate"
   ]
  },
  {
   "cell_type": "code",
   "execution_count": 4,
   "id": "d276b9b0",
   "metadata": {},
   "outputs": [],
   "source": [
    "new_obs = pd.DataFrame([[24,60,20]], columns=[\"Index\",\"Income\",\"Lot_Size\"])\n",
    "new_obs.set_index(\"Index\", inplace = True)\n",
    "combined_obs = pd.concat([X, new_obs], ignore_index=True)"
   ]
  },
  {
   "cell_type": "markdown",
   "id": "866c3ba3",
   "metadata": {},
   "source": [
    "Standardize the dataset"
   ]
  },
  {
   "cell_type": "code",
   "execution_count": 5,
   "id": "3ed63878",
   "metadata": {},
   "outputs": [],
   "source": [
    "standardizer = StandardScaler()\n",
    "combined_obs_std = standardizer.fit_transform(combined_obs)"
   ]
  },
  {
   "cell_type": "markdown",
   "id": "e007433d",
   "metadata": {},
   "source": [
    "Splitting the dataset"
   ]
  },
  {
   "cell_type": "code",
   "execution_count": 6,
   "id": "0f5ebd38",
   "metadata": {},
   "outputs": [],
   "source": [
    "X_std = combined_obs_std[:24,:]\n",
    "new_obs_std = combined_obs_std[24:,:]"
   ]
  },
  {
   "cell_type": "markdown",
   "id": "7137d841",
   "metadata": {},
   "source": [
    "Build the model"
   ]
  },
  {
   "cell_type": "code",
   "execution_count": 7,
   "id": "16ff79eb",
   "metadata": {},
   "outputs": [],
   "source": [
    "knn2 = KNeighborsClassifier(n_neighbors=3,p=2) #using 3 neigbors(k) and the euclidean distance function (p)\n",
    "model2 = knn2.fit(X_std,y)"
   ]
  },
  {
   "cell_type": "markdown",
   "id": "d54c68cf",
   "metadata": {},
   "source": [
    "Prediction"
   ]
  },
  {
   "cell_type": "code",
   "execution_count": 8,
   "id": "a2dfd583",
   "metadata": {},
   "outputs": [
    {
     "data": {
      "text/plain": [
       "array(['Owner'], dtype=object)"
      ]
     },
     "execution_count": 8,
     "metadata": {},
     "output_type": "execute_result"
    }
   ],
   "source": [
    "model2.predict(new_obs_std)"
   ]
  },
  {
   "cell_type": "markdown",
   "id": "ad976129",
   "metadata": {},
   "source": [
    "The categorical variable predicted is Owner"
   ]
  },
  {
   "cell_type": "markdown",
   "id": "351f45ad",
   "metadata": {},
   "source": [
    "### Cross Validation"
   ]
  },
  {
   "cell_type": "code",
   "execution_count": 11,
   "id": "c1f74b4e",
   "metadata": {},
   "outputs": [
    {
     "name": "stdout",
     "output_type": "stream",
     "text": [
      "k= 1 0.625\n",
      "k= 2 0.875\n",
      "k= 3 0.875\n",
      "k= 4 0.875\n",
      "k= 5 0.875\n",
      "k= 6 0.875\n",
      "k= 7 0.75\n",
      "k= 8 0.875\n",
      "k= 9 0.75\n",
      "k= 10 0.875\n"
     ]
    }
   ],
   "source": [
    "\n",
    "X = mower_df.iloc[:,0:2]\n",
    "y = mower_df['Ownership']\n",
    "\n",
    "\n",
    "standardizer = StandardScaler()\n",
    "X_std = standardizer.fit_transform(X)\n",
    "\n",
    "\n",
    "from sklearn.model_selection import train_test_split\n",
    "X_train, X_test, y_train, y_test = train_test_split(X_std, y, test_size = 0.33, random_state = 5)\n",
    "\n",
    "from sklearn.metrics import accuracy_score\n",
    "for i in range (1,11):\n",
    "    knn3 = KNeighborsClassifier(n_neighbors=i)\n",
    "    model3 = knn3.fit(X_train,y_train)\n",
    "    y_test_pred = model3.predict(X_test)\n",
    "    print('k=',i,accuracy_score(y_test, y_test_pred))\n"
   ]
  },
  {
   "cell_type": "markdown",
   "id": "7a9d917d",
   "metadata": {},
   "source": [
    "The accuracy is maximized at 0.875 for multiple k"
   ]
  },
  {
   "cell_type": "code",
   "execution_count": null,
   "id": "b43a01b7",
   "metadata": {},
   "outputs": [],
   "source": []
  }
 ],
 "metadata": {
  "kernelspec": {
   "display_name": "Python 3 (ipykernel)",
   "language": "python",
   "name": "python3"
  },
  "language_info": {
   "codemirror_mode": {
    "name": "ipython",
    "version": 3
   },
   "file_extension": ".py",
   "mimetype": "text/x-python",
   "name": "python",
   "nbconvert_exporter": "python",
   "pygments_lexer": "ipython3",
   "version": "3.8.16"
  }
 },
 "nbformat": 4,
 "nbformat_minor": 5
}
