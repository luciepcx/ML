{
 "cells": [
  {
   "cell_type": "markdown",
   "id": "78acd2ec",
   "metadata": {},
   "source": [
    "# Feature Selection & CPA"
   ]
  },
  {
   "cell_type": "code",
   "execution_count": 1,
   "id": "91050ce5",
   "metadata": {},
   "outputs": [],
   "source": [
    "import pandas as pd"
   ]
  },
  {
   "cell_type": "code",
   "execution_count": 3,
   "id": "01294a0e",
   "metadata": {},
   "outputs": [],
   "source": [
    "bank_df = pd.read_csv(\"UniversalBank.csv\")"
   ]
  },
  {
   "cell_type": "code",
   "execution_count": 4,
   "id": "ab88849d",
   "metadata": {},
   "outputs": [
    {
     "data": {
      "text/html": [
       "<div>\n",
       "<style scoped>\n",
       "    .dataframe tbody tr th:only-of-type {\n",
       "        vertical-align: middle;\n",
       "    }\n",
       "\n",
       "    .dataframe tbody tr th {\n",
       "        vertical-align: top;\n",
       "    }\n",
       "\n",
       "    .dataframe thead th {\n",
       "        text-align: right;\n",
       "    }\n",
       "</style>\n",
       "<table border=\"1\" class=\"dataframe\">\n",
       "  <thead>\n",
       "    <tr style=\"text-align: right;\">\n",
       "      <th></th>\n",
       "      <th>UserID</th>\n",
       "      <th>Personal Loan</th>\n",
       "      <th>Age</th>\n",
       "      <th>Experience</th>\n",
       "      <th>Income</th>\n",
       "      <th>Family</th>\n",
       "      <th>CCAvg</th>\n",
       "      <th>Education</th>\n",
       "      <th>Mortgage</th>\n",
       "      <th>Securities Account</th>\n",
       "      <th>CD Account</th>\n",
       "      <th>Online</th>\n",
       "      <th>CreditCard</th>\n",
       "    </tr>\n",
       "  </thead>\n",
       "  <tbody>\n",
       "    <tr>\n",
       "      <th>0</th>\n",
       "      <td>1</td>\n",
       "      <td>0</td>\n",
       "      <td>25</td>\n",
       "      <td>1</td>\n",
       "      <td>49</td>\n",
       "      <td>4</td>\n",
       "      <td>1.6</td>\n",
       "      <td>1</td>\n",
       "      <td>0</td>\n",
       "      <td>1</td>\n",
       "      <td>0</td>\n",
       "      <td>0</td>\n",
       "      <td>0</td>\n",
       "    </tr>\n",
       "    <tr>\n",
       "      <th>1</th>\n",
       "      <td>2</td>\n",
       "      <td>0</td>\n",
       "      <td>45</td>\n",
       "      <td>19</td>\n",
       "      <td>34</td>\n",
       "      <td>3</td>\n",
       "      <td>1.5</td>\n",
       "      <td>1</td>\n",
       "      <td>0</td>\n",
       "      <td>1</td>\n",
       "      <td>0</td>\n",
       "      <td>0</td>\n",
       "      <td>0</td>\n",
       "    </tr>\n",
       "    <tr>\n",
       "      <th>2</th>\n",
       "      <td>3</td>\n",
       "      <td>0</td>\n",
       "      <td>39</td>\n",
       "      <td>15</td>\n",
       "      <td>11</td>\n",
       "      <td>1</td>\n",
       "      <td>1.0</td>\n",
       "      <td>1</td>\n",
       "      <td>0</td>\n",
       "      <td>0</td>\n",
       "      <td>0</td>\n",
       "      <td>0</td>\n",
       "      <td>0</td>\n",
       "    </tr>\n",
       "    <tr>\n",
       "      <th>3</th>\n",
       "      <td>4</td>\n",
       "      <td>0</td>\n",
       "      <td>35</td>\n",
       "      <td>9</td>\n",
       "      <td>100</td>\n",
       "      <td>1</td>\n",
       "      <td>2.7</td>\n",
       "      <td>2</td>\n",
       "      <td>0</td>\n",
       "      <td>0</td>\n",
       "      <td>0</td>\n",
       "      <td>0</td>\n",
       "      <td>0</td>\n",
       "    </tr>\n",
       "    <tr>\n",
       "      <th>4</th>\n",
       "      <td>5</td>\n",
       "      <td>0</td>\n",
       "      <td>35</td>\n",
       "      <td>8</td>\n",
       "      <td>45</td>\n",
       "      <td>4</td>\n",
       "      <td>1.0</td>\n",
       "      <td>2</td>\n",
       "      <td>0</td>\n",
       "      <td>0</td>\n",
       "      <td>0</td>\n",
       "      <td>0</td>\n",
       "      <td>1</td>\n",
       "    </tr>\n",
       "  </tbody>\n",
       "</table>\n",
       "</div>"
      ],
      "text/plain": [
       "   UserID  Personal Loan  Age  Experience  Income  Family  CCAvg  Education  \\\n",
       "0       1              0   25           1      49       4    1.6          1   \n",
       "1       2              0   45          19      34       3    1.5          1   \n",
       "2       3              0   39          15      11       1    1.0          1   \n",
       "3       4              0   35           9     100       1    2.7          2   \n",
       "4       5              0   35           8      45       4    1.0          2   \n",
       "\n",
       "   Mortgage  Securities Account  CD Account  Online  CreditCard  \n",
       "0         0                   1           0       0           0  \n",
       "1         0                   1           0       0           0  \n",
       "2         0                   0           0       0           0  \n",
       "3         0                   0           0       0           0  \n",
       "4         0                   0           0       0           1  "
      ]
     },
     "execution_count": 4,
     "metadata": {},
     "output_type": "execute_result"
    }
   ],
   "source": [
    "bank_df.head()"
   ]
  },
  {
   "cell_type": "markdown",
   "id": "16ef5cb3",
   "metadata": {},
   "source": [
    "Setting Variables"
   ]
  },
  {
   "cell_type": "code",
   "execution_count": 5,
   "id": "2238d438",
   "metadata": {},
   "outputs": [],
   "source": [
    "X = bank_df.iloc[:,2:13]\n",
    "y = bank_df[\"Personal Loan\"]"
   ]
  },
  {
   "cell_type": "markdown",
   "id": "e0d4d168",
   "metadata": {},
   "source": [
    "## Recursive feature selection"
   ]
  },
  {
   "cell_type": "code",
   "execution_count": 6,
   "id": "70bca8da",
   "metadata": {},
   "outputs": [],
   "source": [
    "from sklearn.feature_selection import RFE\n",
    "from sklearn.linear_model import LogisticRegression"
   ]
  },
  {
   "cell_type": "code",
   "execution_count": 7,
   "id": "fa9162a6",
   "metadata": {},
   "outputs": [
    {
     "data": {
      "text/plain": [
       "array([False, False, False, False, False, False, False,  True,  True,\n",
       "       False,  True])"
      ]
     },
     "execution_count": 7,
     "metadata": {},
     "output_type": "execute_result"
    }
   ],
   "source": [
    "lr = LogisticRegression(max_iter=5000)\n",
    "rfe = RFE(lr, n_features_to_select=3)\n",
    "model = rfe.fit(X, y)\n",
    "model.support_"
   ]
  },
  {
   "cell_type": "code",
   "execution_count": 11,
   "id": "18821df0",
   "metadata": {},
   "outputs": [
    {
     "data": {
      "text/html": [
       "<div>\n",
       "<style scoped>\n",
       "    .dataframe tbody tr th:only-of-type {\n",
       "        vertical-align: middle;\n",
       "    }\n",
       "\n",
       "    .dataframe tbody tr th {\n",
       "        vertical-align: top;\n",
       "    }\n",
       "\n",
       "    .dataframe thead th {\n",
       "        text-align: right;\n",
       "    }\n",
       "</style>\n",
       "<table border=\"1\" class=\"dataframe\">\n",
       "  <thead>\n",
       "    <tr style=\"text-align: right;\">\n",
       "      <th></th>\n",
       "      <th>predictor</th>\n",
       "      <th>ranking</th>\n",
       "    </tr>\n",
       "  </thead>\n",
       "  <tbody>\n",
       "    <tr>\n",
       "      <th>0</th>\n",
       "      <td>Age</td>\n",
       "      <td>8</td>\n",
       "    </tr>\n",
       "    <tr>\n",
       "      <th>1</th>\n",
       "      <td>Experience</td>\n",
       "      <td>7</td>\n",
       "    </tr>\n",
       "    <tr>\n",
       "      <th>2</th>\n",
       "      <td>Income</td>\n",
       "      <td>6</td>\n",
       "    </tr>\n",
       "    <tr>\n",
       "      <th>3</th>\n",
       "      <td>Family</td>\n",
       "      <td>5</td>\n",
       "    </tr>\n",
       "    <tr>\n",
       "      <th>4</th>\n",
       "      <td>CCAvg</td>\n",
       "      <td>3</td>\n",
       "    </tr>\n",
       "    <tr>\n",
       "      <th>5</th>\n",
       "      <td>Education</td>\n",
       "      <td>2</td>\n",
       "    </tr>\n",
       "    <tr>\n",
       "      <th>6</th>\n",
       "      <td>Mortgage</td>\n",
       "      <td>9</td>\n",
       "    </tr>\n",
       "    <tr>\n",
       "      <th>7</th>\n",
       "      <td>Securities Account</td>\n",
       "      <td>1</td>\n",
       "    </tr>\n",
       "    <tr>\n",
       "      <th>8</th>\n",
       "      <td>CD Account</td>\n",
       "      <td>1</td>\n",
       "    </tr>\n",
       "    <tr>\n",
       "      <th>9</th>\n",
       "      <td>Online</td>\n",
       "      <td>4</td>\n",
       "    </tr>\n",
       "    <tr>\n",
       "      <th>10</th>\n",
       "      <td>CreditCard</td>\n",
       "      <td>1</td>\n",
       "    </tr>\n",
       "  </tbody>\n",
       "</table>\n",
       "</div>"
      ],
      "text/plain": [
       "             predictor  ranking\n",
       "0                  Age        8\n",
       "1           Experience        7\n",
       "2               Income        6\n",
       "3               Family        5\n",
       "4                CCAvg        3\n",
       "5            Education        2\n",
       "6             Mortgage        9\n",
       "7   Securities Account        1\n",
       "8           CD Account        1\n",
       "9               Online        4\n",
       "10          CreditCard        1"
      ]
     },
     "execution_count": 11,
     "metadata": {},
     "output_type": "execute_result"
    }
   ],
   "source": [
    "pd.DataFrame(list(zip(X.columns,model.ranking_)), columns = ['predictor','ranking'])"
   ]
  },
  {
   "cell_type": "markdown",
   "id": "ff532bdc",
   "metadata": {},
   "source": [
    "## Lasso"
   ]
  },
  {
   "cell_type": "markdown",
   "id": "54449340",
   "metadata": {},
   "source": [
    "Predictors Standardization"
   ]
  },
  {
   "cell_type": "code",
   "execution_count": 12,
   "id": "868b0c00",
   "metadata": {},
   "outputs": [],
   "source": [
    "from sklearn.preprocessing import StandardScaler\n",
    "scaler = StandardScaler()\n",
    "X_std = scaler.fit_transform(X)"
   ]
  },
  {
   "cell_type": "markdown",
   "id": "65810943",
   "metadata": {},
   "source": [
    "Running model"
   ]
  },
  {
   "cell_type": "code",
   "execution_count": 13,
   "id": "87da2a60",
   "metadata": {},
   "outputs": [
    {
     "data": {
      "text/plain": [
       "array([ 0.        ,  0.        ,  0.13299623,  0.02631129,  0.01431789,\n",
       "        0.05454379,  0.        , -0.00234322,  0.05970924, -0.        ,\n",
       "       -0.00513873])"
      ]
     },
     "execution_count": 13,
     "metadata": {},
     "output_type": "execute_result"
    }
   ],
   "source": [
    "from sklearn.linear_model import Lasso\n",
    "ls = Lasso(alpha=0.01) # you can control the number of predictors through alpha\n",
    "model = ls.fit(X_std,y)\n",
    "model.coef_"
   ]
  },
  {
   "cell_type": "code",
   "execution_count": 14,
   "id": "f769f25c",
   "metadata": {},
   "outputs": [
    {
     "data": {
      "text/html": [
       "<div>\n",
       "<style scoped>\n",
       "    .dataframe tbody tr th:only-of-type {\n",
       "        vertical-align: middle;\n",
       "    }\n",
       "\n",
       "    .dataframe tbody tr th {\n",
       "        vertical-align: top;\n",
       "    }\n",
       "\n",
       "    .dataframe thead th {\n",
       "        text-align: right;\n",
       "    }\n",
       "</style>\n",
       "<table border=\"1\" class=\"dataframe\">\n",
       "  <thead>\n",
       "    <tr style=\"text-align: right;\">\n",
       "      <th></th>\n",
       "      <th>predictor</th>\n",
       "      <th>coefficient</th>\n",
       "    </tr>\n",
       "  </thead>\n",
       "  <tbody>\n",
       "    <tr>\n",
       "      <th>0</th>\n",
       "      <td>Age</td>\n",
       "      <td>0.000000</td>\n",
       "    </tr>\n",
       "    <tr>\n",
       "      <th>1</th>\n",
       "      <td>Experience</td>\n",
       "      <td>0.000000</td>\n",
       "    </tr>\n",
       "    <tr>\n",
       "      <th>2</th>\n",
       "      <td>Income</td>\n",
       "      <td>0.132996</td>\n",
       "    </tr>\n",
       "    <tr>\n",
       "      <th>3</th>\n",
       "      <td>Family</td>\n",
       "      <td>0.026311</td>\n",
       "    </tr>\n",
       "    <tr>\n",
       "      <th>4</th>\n",
       "      <td>CCAvg</td>\n",
       "      <td>0.014318</td>\n",
       "    </tr>\n",
       "    <tr>\n",
       "      <th>5</th>\n",
       "      <td>Education</td>\n",
       "      <td>0.054544</td>\n",
       "    </tr>\n",
       "    <tr>\n",
       "      <th>6</th>\n",
       "      <td>Mortgage</td>\n",
       "      <td>0.000000</td>\n",
       "    </tr>\n",
       "    <tr>\n",
       "      <th>7</th>\n",
       "      <td>Securities Account</td>\n",
       "      <td>-0.002343</td>\n",
       "    </tr>\n",
       "    <tr>\n",
       "      <th>8</th>\n",
       "      <td>CD Account</td>\n",
       "      <td>0.059709</td>\n",
       "    </tr>\n",
       "    <tr>\n",
       "      <th>9</th>\n",
       "      <td>Online</td>\n",
       "      <td>-0.000000</td>\n",
       "    </tr>\n",
       "    <tr>\n",
       "      <th>10</th>\n",
       "      <td>CreditCard</td>\n",
       "      <td>-0.005139</td>\n",
       "    </tr>\n",
       "  </tbody>\n",
       "</table>\n",
       "</div>"
      ],
      "text/plain": [
       "             predictor  coefficient\n",
       "0                  Age     0.000000\n",
       "1           Experience     0.000000\n",
       "2               Income     0.132996\n",
       "3               Family     0.026311\n",
       "4                CCAvg     0.014318\n",
       "5            Education     0.054544\n",
       "6             Mortgage     0.000000\n",
       "7   Securities Account    -0.002343\n",
       "8           CD Account     0.059709\n",
       "9               Online    -0.000000\n",
       "10          CreditCard    -0.005139"
      ]
     },
     "execution_count": 14,
     "metadata": {},
     "output_type": "execute_result"
    }
   ],
   "source": [
    "pd.DataFrame(list(zip(X.columns,model.coef_)), columns = ['predictor','coefficient'])\n"
   ]
  },
  {
   "cell_type": "markdown",
   "id": "15774739",
   "metadata": {},
   "source": [
    "## Random Forest"
   ]
  },
  {
   "cell_type": "code",
   "execution_count": 15,
   "id": "7490b997",
   "metadata": {},
   "outputs": [],
   "source": [
    "from sklearn.ensemble import RandomForestClassifier\n",
    "randomforest = RandomForestClassifier(random_state=0)\n",
    "\n",
    "model = randomforest.fit(X, y)"
   ]
  },
  {
   "cell_type": "code",
   "execution_count": 16,
   "id": "c0cefd3e",
   "metadata": {},
   "outputs": [
    {
     "data": {
      "text/plain": [
       "array([0.03622587, 0.03631667, 0.33341256, 0.11905741, 0.16432808,\n",
       "       0.21642604, 0.02860299, 0.00362799, 0.04759828, 0.00677493,\n",
       "       0.00762918])"
      ]
     },
     "execution_count": 16,
     "metadata": {},
     "output_type": "execute_result"
    }
   ],
   "source": [
    "model.feature_importances_"
   ]
  },
  {
   "cell_type": "code",
   "execution_count": 17,
   "id": "38352ad6",
   "metadata": {},
   "outputs": [
    {
     "data": {
      "text/html": [
       "<div>\n",
       "<style scoped>\n",
       "    .dataframe tbody tr th:only-of-type {\n",
       "        vertical-align: middle;\n",
       "    }\n",
       "\n",
       "    .dataframe tbody tr th {\n",
       "        vertical-align: top;\n",
       "    }\n",
       "\n",
       "    .dataframe thead th {\n",
       "        text-align: right;\n",
       "    }\n",
       "</style>\n",
       "<table border=\"1\" class=\"dataframe\">\n",
       "  <thead>\n",
       "    <tr style=\"text-align: right;\">\n",
       "      <th></th>\n",
       "      <th>predictor</th>\n",
       "      <th>feature importance</th>\n",
       "    </tr>\n",
       "  </thead>\n",
       "  <tbody>\n",
       "    <tr>\n",
       "      <th>0</th>\n",
       "      <td>Age</td>\n",
       "      <td>0.036226</td>\n",
       "    </tr>\n",
       "    <tr>\n",
       "      <th>1</th>\n",
       "      <td>Experience</td>\n",
       "      <td>0.036317</td>\n",
       "    </tr>\n",
       "    <tr>\n",
       "      <th>2</th>\n",
       "      <td>Income</td>\n",
       "      <td>0.333413</td>\n",
       "    </tr>\n",
       "    <tr>\n",
       "      <th>3</th>\n",
       "      <td>Family</td>\n",
       "      <td>0.119057</td>\n",
       "    </tr>\n",
       "    <tr>\n",
       "      <th>4</th>\n",
       "      <td>CCAvg</td>\n",
       "      <td>0.164328</td>\n",
       "    </tr>\n",
       "    <tr>\n",
       "      <th>5</th>\n",
       "      <td>Education</td>\n",
       "      <td>0.216426</td>\n",
       "    </tr>\n",
       "    <tr>\n",
       "      <th>6</th>\n",
       "      <td>Mortgage</td>\n",
       "      <td>0.028603</td>\n",
       "    </tr>\n",
       "    <tr>\n",
       "      <th>7</th>\n",
       "      <td>Securities Account</td>\n",
       "      <td>0.003628</td>\n",
       "    </tr>\n",
       "    <tr>\n",
       "      <th>8</th>\n",
       "      <td>CD Account</td>\n",
       "      <td>0.047598</td>\n",
       "    </tr>\n",
       "    <tr>\n",
       "      <th>9</th>\n",
       "      <td>Online</td>\n",
       "      <td>0.006775</td>\n",
       "    </tr>\n",
       "    <tr>\n",
       "      <th>10</th>\n",
       "      <td>CreditCard</td>\n",
       "      <td>0.007629</td>\n",
       "    </tr>\n",
       "  </tbody>\n",
       "</table>\n",
       "</div>"
      ],
      "text/plain": [
       "             predictor  feature importance\n",
       "0                  Age            0.036226\n",
       "1           Experience            0.036317\n",
       "2               Income            0.333413\n",
       "3               Family            0.119057\n",
       "4                CCAvg            0.164328\n",
       "5            Education            0.216426\n",
       "6             Mortgage            0.028603\n",
       "7   Securities Account            0.003628\n",
       "8           CD Account            0.047598\n",
       "9               Online            0.006775\n",
       "10          CreditCard            0.007629"
      ]
     },
     "execution_count": 17,
     "metadata": {},
     "output_type": "execute_result"
    }
   ],
   "source": [
    "pd.DataFrame(list(zip(X.columns,model.feature_importances_)), columns = ['predictor','feature importance'])"
   ]
  },
  {
   "cell_type": "markdown",
   "id": "982e5a05",
   "metadata": {},
   "source": [
    "## PCA"
   ]
  },
  {
   "cell_type": "code",
   "execution_count": 19,
   "id": "15511fe8",
   "metadata": {},
   "outputs": [
    {
     "data": {
      "text/plain": [
       "array([8.21325056e-01, 1.57747806e-01, 2.05275482e-02, 1.39734364e-04,\n",
       "       1.01152134e-04, 7.01739449e-05, 4.17376965e-05, 1.91024279e-05,\n",
       "       1.66944409e-05, 8.05191858e-06])"
      ]
     },
     "execution_count": 19,
     "metadata": {},
     "output_type": "execute_result"
    }
   ],
   "source": [
    "from sklearn.decomposition import PCA\n",
    "pca = PCA(n_components=10)\n",
    "pca.fit(X)\n",
    "\n",
    "pca.explained_variance_ratio_\n"
   ]
  },
  {
   "cell_type": "code",
   "execution_count": 20,
   "id": "68594427",
   "metadata": {},
   "outputs": [
    {
     "data": {
      "text/plain": [
       "array([[-1.75106316e-03, -1.48430525e-03,  1.15367832e-01,\n",
       "        -3.18360921e-04,  2.42992635e-03, -3.50541511e-04,\n",
       "         9.93317075e-01, -1.63891462e-05,  2.26106317e-04,\n",
       "        -2.48981873e-05, -3.23953616e-05],\n",
       "       [-1.54663514e-02, -1.33334994e-02,  9.92787935e-01,\n",
       "        -3.97162302e-03,  2.46167496e-02, -3.42748375e-03,\n",
       "        -1.15416443e-01, -8.39527604e-06,  7.96097959e-04,\n",
       "         1.74633262e-04, -6.14803688e-06],\n",
       "       [-7.06621550e-01, -7.07279337e-01, -2.05205421e-02,\n",
       "         4.19500645e-03,  1.47275876e-03, -8.52646037e-04,\n",
       "         7.82794178e-05,  1.88155161e-05, -2.81172367e-04,\n",
       "        -4.45504413e-04, -2.31554927e-04],\n",
       "       [ 3.47877174e-02, -3.21161265e-02, -2.47494270e-02,\n",
       "        -2.94613692e-02,  9.97997058e-01, -1.22946635e-02,\n",
       "         4.31016950e-04,  5.30389339e-03,  6.50014892e-03,\n",
       "        -7.11290622e-03, -2.72296092e-03],\n",
       "       [ 8.43257161e-02, -7.85621844e-02,  3.88428329e-03,\n",
       "         9.88786091e-01,  2.48951625e-02,  9.04223224e-02,\n",
       "        -1.33838831e-04,  6.03989314e-03,  1.01357425e-02,\n",
       "         6.67795907e-03,  4.93382571e-03],\n",
       "       [ 5.39506567e-01, -5.40788887e-01,  3.53692731e-03,\n",
       "        -1.45489499e-01, -3.27610556e-02,  6.27748620e-01,\n",
       "        -1.38386755e-05, -1.97638499e-03,  2.31984401e-03,\n",
       "        -6.38026634e-03, -1.04272266e-02],\n",
       "       [-4.48316142e-01,  4.47043117e-01,  7.02926756e-04,\n",
       "         2.04830118e-03,  3.94376551e-02,  7.72722630e-01,\n",
       "        -3.13518935e-05, -6.19988359e-03,  1.69024893e-02,\n",
       "        -1.34414660e-02, -1.93596479e-05],\n",
       "       [ 1.89230644e-03, -1.13017441e-03,  4.39731377e-04,\n",
       "         9.85814532e-03, -6.29348437e-03, -1.24153061e-02,\n",
       "        -3.47880223e-05, -3.05315911e-02, -1.31162449e-01,\n",
       "        -9.82036968e-01, -1.31040620e-01],\n",
       "       [ 6.31178784e-03, -6.63437688e-03, -1.10095303e-04,\n",
       "        -6.81402596e-03, -2.24159380e-04,  1.30296365e-03,\n",
       "         2.50490181e-06,  1.29588350e-02,  1.68916396e-01,\n",
       "        -1.52934020e-01,  9.73539142e-01],\n",
       "       [-6.05500424e-04,  4.95540678e-04, -1.14953127e-04,\n",
       "        -8.03409836e-03, -8.21237463e-03, -1.86456777e-03,\n",
       "        -4.19667957e-05,  9.25354744e-01,  3.63178503e-01,\n",
       "        -6.58435575e-02, -8.57234177e-02]])"
      ]
     },
     "execution_count": 20,
     "metadata": {},
     "output_type": "execute_result"
    }
   ],
   "source": [
    "pca.components_"
   ]
  },
  {
   "cell_type": "markdown",
   "id": "498a190e",
   "metadata": {},
   "source": [
    "## Comparison model with CPA & without "
   ]
  },
  {
   "cell_type": "markdown",
   "id": "580b33be",
   "metadata": {},
   "source": [
    "Without CPA"
   ]
  },
  {
   "cell_type": "code",
   "execution_count": 21,
   "id": "3d69d166",
   "metadata": {},
   "outputs": [],
   "source": [
    "from sklearn.model_selection import train_test_split\n",
    "X_train, X_test, y_train, y_test = train_test_split(X, y, test_size = 0.33, random_state = 5)"
   ]
  },
  {
   "cell_type": "code",
   "execution_count": 24,
   "id": "fe0f3328",
   "metadata": {},
   "outputs": [],
   "source": [
    "lr1 = LogisticRegression(max_iter=5000)\n",
    "model1 = lr1.fit(X_train,y_train)"
   ]
  },
  {
   "cell_type": "code",
   "execution_count": 25,
   "id": "d4c22b30",
   "metadata": {},
   "outputs": [
    {
     "data": {
      "text/plain": [
       "0.9509090909090909"
      ]
     },
     "execution_count": 25,
     "metadata": {},
     "output_type": "execute_result"
    }
   ],
   "source": [
    "from sklearn import metrics\n",
    "y_test_pred = model1.predict(X_test)\n",
    "metrics.accuracy_score(y_test, y_test_pred)"
   ]
  },
  {
   "cell_type": "markdown",
   "id": "54c1994b",
   "metadata": {},
   "source": [
    "With CPA"
   ]
  },
  {
   "cell_type": "code",
   "execution_count": 26,
   "id": "7190ee4b",
   "metadata": {},
   "outputs": [],
   "source": [
    "pca = PCA(n_components=3)\n",
    "pca.fit(X)\n",
    "X_new = pca.transform(X)"
   ]
  },
  {
   "cell_type": "code",
   "execution_count": 28,
   "id": "958635e3",
   "metadata": {},
   "outputs": [],
   "source": [
    "X_train, X_test, y_train, y_test = train_test_split(X_new, y, test_size = 0.33, random_state = 5)"
   ]
  },
  {
   "cell_type": "code",
   "execution_count": 29,
   "id": "9c9270eb",
   "metadata": {},
   "outputs": [],
   "source": [
    "lr2 = LogisticRegression(max_iter=1000)\n",
    "model2 = lr2.fit(X_train,y_train)"
   ]
  },
  {
   "cell_type": "code",
   "execution_count": 30,
   "id": "f6defce9",
   "metadata": {},
   "outputs": [
    {
     "data": {
      "text/plain": [
       "0.9115151515151515"
      ]
     },
     "execution_count": 30,
     "metadata": {},
     "output_type": "execute_result"
    }
   ],
   "source": [
    "y_test_pred = model2.predict(X_test)\n",
    "metrics.accuracy_score(y_test, y_test_pred)"
   ]
  },
  {
   "cell_type": "code",
   "execution_count": null,
   "id": "3446da99",
   "metadata": {},
   "outputs": [],
   "source": []
  }
 ],
 "metadata": {
  "kernelspec": {
   "display_name": "Python 3",
   "language": "python",
   "name": "python3"
  },
  "language_info": {
   "codemirror_mode": {
    "name": "ipython",
    "version": 3
   },
   "file_extension": ".py",
   "mimetype": "text/x-python",
   "name": "python",
   "nbconvert_exporter": "python",
   "pygments_lexer": "ipython3",
   "version": "3.8.8"
  }
 },
 "nbformat": 4,
 "nbformat_minor": 5
}
