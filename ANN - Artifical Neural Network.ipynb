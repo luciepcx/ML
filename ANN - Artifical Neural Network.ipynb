{
 "cells": [
  {
   "cell_type": "markdown",
   "id": "215bc9e6",
   "metadata": {},
   "source": [
    "# ANN | Artificial Neural Network"
   ]
  },
  {
   "cell_type": "code",
   "execution_count": 1,
   "id": "82d2e5d4",
   "metadata": {},
   "outputs": [],
   "source": [
    "import pandas as pd\n",
    "import numpy as np"
   ]
  },
  {
   "cell_type": "code",
   "execution_count": 2,
   "id": "b585fa9a",
   "metadata": {},
   "outputs": [],
   "source": [
    "accident_df = pd.read_csv(\"Accidents.csv\")"
   ]
  },
  {
   "cell_type": "code",
   "execution_count": 3,
   "id": "61eed942",
   "metadata": {},
   "outputs": [
    {
     "data": {
      "text/html": [
       "<div>\n",
       "<style scoped>\n",
       "    .dataframe tbody tr th:only-of-type {\n",
       "        vertical-align: middle;\n",
       "    }\n",
       "\n",
       "    .dataframe tbody tr th {\n",
       "        vertical-align: top;\n",
       "    }\n",
       "\n",
       "    .dataframe thead th {\n",
       "        text-align: right;\n",
       "    }\n",
       "</style>\n",
       "<table border=\"1\" class=\"dataframe\">\n",
       "  <thead>\n",
       "    <tr style=\"text-align: right;\">\n",
       "      <th></th>\n",
       "      <th>ALCHL_I</th>\n",
       "      <th>PROFIL_I_R</th>\n",
       "      <th>SUR_COND</th>\n",
       "      <th>VEH_INVL</th>\n",
       "      <th>MAX_SEV_IR</th>\n",
       "    </tr>\n",
       "  </thead>\n",
       "  <tbody>\n",
       "    <tr>\n",
       "      <th>0</th>\n",
       "      <td>2</td>\n",
       "      <td>0</td>\n",
       "      <td>1</td>\n",
       "      <td>1</td>\n",
       "      <td>0</td>\n",
       "    </tr>\n",
       "    <tr>\n",
       "      <th>1</th>\n",
       "      <td>2</td>\n",
       "      <td>1</td>\n",
       "      <td>1</td>\n",
       "      <td>1</td>\n",
       "      <td>2</td>\n",
       "    </tr>\n",
       "    <tr>\n",
       "      <th>2</th>\n",
       "      <td>1</td>\n",
       "      <td>0</td>\n",
       "      <td>1</td>\n",
       "      <td>1</td>\n",
       "      <td>0</td>\n",
       "    </tr>\n",
       "    <tr>\n",
       "      <th>3</th>\n",
       "      <td>2</td>\n",
       "      <td>0</td>\n",
       "      <td>2</td>\n",
       "      <td>2</td>\n",
       "      <td>1</td>\n",
       "    </tr>\n",
       "    <tr>\n",
       "      <th>4</th>\n",
       "      <td>2</td>\n",
       "      <td>1</td>\n",
       "      <td>1</td>\n",
       "      <td>2</td>\n",
       "      <td>1</td>\n",
       "    </tr>\n",
       "  </tbody>\n",
       "</table>\n",
       "</div>"
      ],
      "text/plain": [
       "   ALCHL_I  PROFIL_I_R  SUR_COND  VEH_INVL  MAX_SEV_IR\n",
       "0        2           0         1         1           0\n",
       "1        2           1         1         1           2\n",
       "2        1           0         1         1           0\n",
       "3        2           0         2         2           1\n",
       "4        2           1         1         2           1"
      ]
     },
     "execution_count": 3,
     "metadata": {},
     "output_type": "execute_result"
    }
   ],
   "source": [
    "accident_df.head()"
   ]
  },
  {
   "cell_type": "markdown",
   "id": "01ecf215",
   "metadata": {},
   "source": [
    "Dummifying Predictors"
   ]
  },
  {
   "cell_type": "code",
   "execution_count": 4,
   "id": "2dcacfa5",
   "metadata": {},
   "outputs": [],
   "source": [
    "accident_df[\"ALCHL_I\"] = accident_df[\"ALCHL_I\"]-1\n",
    "accident_df = pd.get_dummies(accident_df, columns = ['SUR_COND','VEH_INVL'])"
   ]
  },
  {
   "cell_type": "markdown",
   "id": "647af21c",
   "metadata": {},
   "source": [
    "Setting Variables"
   ]
  },
  {
   "cell_type": "code",
   "execution_count": 5,
   "id": "128e7701",
   "metadata": {},
   "outputs": [],
   "source": [
    "X = accident_df.drop(columns=['MAX_SEV_IR'])\n",
    "y = accident_df['MAX_SEV_IR']"
   ]
  },
  {
   "cell_type": "markdown",
   "id": "b2d4e64a",
   "metadata": {},
   "source": [
    "Split the dataset"
   ]
  },
  {
   "cell_type": "code",
   "execution_count": 6,
   "id": "558beca8",
   "metadata": {},
   "outputs": [],
   "source": [
    "from sklearn.model_selection import train_test_split\n",
    "X_train,X_test,y_train,y_test = train_test_split(X,y,test_size=0.33,random_state=5)"
   ]
  },
  {
   "cell_type": "markdown",
   "id": "003018ad",
   "metadata": {},
   "source": [
    "Build the Model"
   ]
  },
  {
   "cell_type": "code",
   "execution_count": 7,
   "id": "cbaaaf69",
   "metadata": {},
   "outputs": [],
   "source": [
    "from sklearn.neural_network import MLPClassifier\n",
    "mlp = MLPClassifier(hidden_layer_sizes=(11),max_iter=1000, random_state=0)\n",
    "model = mlp.fit(X_train,y_train)"
   ]
  },
  {
   "cell_type": "markdown",
   "id": "11d3403a",
   "metadata": {},
   "source": [
    "Prediction"
   ]
  },
  {
   "cell_type": "code",
   "execution_count": 8,
   "id": "520fc9de",
   "metadata": {},
   "outputs": [],
   "source": [
    "y_test_pred = model.predict(X_test)"
   ]
  },
  {
   "cell_type": "markdown",
   "id": "b206de7e",
   "metadata": {},
   "source": [
    "Accuracy Score"
   ]
  },
  {
   "cell_type": "code",
   "execution_count": 9,
   "id": "814d7385",
   "metadata": {},
   "outputs": [
    {
     "data": {
      "text/plain": [
       "0.8606060606060606"
      ]
     },
     "execution_count": 9,
     "metadata": {},
     "output_type": "execute_result"
    }
   ],
   "source": [
    "from sklearn.metrics import accuracy_score\n",
    "accuracy_score(y_test, y_test_pred)"
   ]
  },
  {
   "cell_type": "markdown",
   "id": "84d7de84",
   "metadata": {},
   "source": [
    "Confusion Matrix"
   ]
  },
  {
   "cell_type": "code",
   "execution_count": 10,
   "id": "c7a9fd04",
   "metadata": {},
   "outputs": [
    {
     "data": {
      "text/plain": [
       "array([[181,   0,   2],\n",
       "       [  0,  95,   6],\n",
       "       [ 18,  20,   8]], dtype=int64)"
      ]
     },
     "execution_count": 10,
     "metadata": {},
     "output_type": "execute_result"
    }
   ],
   "source": [
    "from sklearn.metrics import confusion_matrix\n",
    "confusion_matrix(y_test, y_test_pred)\n"
   ]
  },
  {
   "cell_type": "code",
   "execution_count": 11,
   "id": "61997436",
   "metadata": {},
   "outputs": [
    {
     "name": "stdout",
     "output_type": "stream",
     "text": [
      "        pred:0  pred:1  pred:2\n",
      "true:0     181       0       2\n",
      "true:1       0      95       6\n",
      "true:2      18      20       8\n"
     ]
    }
   ],
   "source": [
    "print(pd.DataFrame(confusion_matrix(y_test, y_test_pred, labels=[0,1,2]), index=['true:0', 'true:1','true:2'], columns=['pred:0', 'pred:1','pred:2']))\n"
   ]
  },
  {
   "cell_type": "markdown",
   "id": "0625464f",
   "metadata": {},
   "source": [
    "Varying the number of hidden layers"
   ]
  },
  {
   "cell_type": "code",
   "execution_count": 12,
   "id": "bf4488bd",
   "metadata": {},
   "outputs": [
    {
     "data": {
      "text/plain": [
       "0.8575757575757575"
      ]
     },
     "execution_count": 12,
     "metadata": {},
     "output_type": "execute_result"
    }
   ],
   "source": [
    "mlp2 = MLPClassifier(hidden_layer_sizes=(11,11),max_iter=1000, random_state=0)\n",
    "model2 = mlp2.fit(X_train,y_train)\n",
    "y_test_pred_2 = model2.predict(X_test)\n",
    "accuracy_score(y_test, y_test_pred_2)"
   ]
  },
  {
   "cell_type": "markdown",
   "id": "e457b17f",
   "metadata": {},
   "source": [
    "Cross Validation"
   ]
  },
  {
   "cell_type": "code",
   "execution_count": 13,
   "id": "eae5ae32",
   "metadata": {},
   "outputs": [
    {
     "name": "stdout",
     "output_type": "stream",
     "text": [
      "2 : 0.859\n",
      "3 : 0.8549999999999999\n",
      "4 : 0.8549999999999999\n",
      "5 : 0.857\n",
      "6 : 0.851\n",
      "7 : 0.861\n",
      "8 : 0.8619999999999999\n",
      "9 : 0.859\n",
      "10 : 0.8530000000000001\n",
      "11 : 0.8649999999999999\n",
      "12 : 0.861\n",
      "13 : 0.861\n",
      "14 : 0.8629999999999999\n",
      "15 : 0.8619999999999999\n",
      "16 : 0.861\n",
      "17 : 0.859\n",
      "18 : 0.861\n",
      "19 : 0.8639999999999999\n",
      "20 : 0.8619999999999999\n"
     ]
    }
   ],
   "source": [
    "from sklearn.model_selection import cross_val_score\n",
    "for i in range (2,21):    \n",
    "    model3 = MLPClassifier(hidden_layer_sizes=(i),max_iter=1000, random_state=0)\n",
    "    scores = cross_val_score(estimator=model3, X=X, y=y, cv=5)\n",
    "    print(i,':',np.average(scores))"
   ]
  },
  {
   "cell_type": "code",
   "execution_count": null,
   "id": "534774fe",
   "metadata": {},
   "outputs": [],
   "source": []
  }
 ],
 "metadata": {
  "kernelspec": {
   "display_name": "Python 3",
   "language": "python",
   "name": "python3"
  },
  "language_info": {
   "codemirror_mode": {
    "name": "ipython",
    "version": 3
   },
   "file_extension": ".py",
   "mimetype": "text/x-python",
   "name": "python",
   "nbconvert_exporter": "python",
   "pygments_lexer": "ipython3",
   "version": "3.8.8"
  }
 },
 "nbformat": 4,
 "nbformat_minor": 5
}
