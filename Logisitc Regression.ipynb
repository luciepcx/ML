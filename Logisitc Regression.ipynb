{
 "cells": [
  {
   "cell_type": "markdown",
   "id": "798cb986",
   "metadata": {},
   "source": [
    "# Logisitic Regression"
   ]
  },
  {
   "cell_type": "markdown",
   "id": "96abbc51",
   "metadata": {},
   "source": [
    "Logistic regressions are a supervised machine learning algorithm where the target variable is categorical. \n",
    "To know if a logistic regression performs well, we look at the accuracy result.\n",
    "\n",
    "For this notebook, I use the UniversalBank.csv dataset available in the dataset folder"
   ]
  },
  {
   "cell_type": "markdown",
   "id": "4c957ea4",
   "metadata": {},
   "source": [
    "### SKlearn Perspective"
   ]
  },
  {
   "cell_type": "markdown",
   "id": "21c59a8a",
   "metadata": {},
   "source": [
    "Importing Librairies and loading data"
   ]
  },
  {
   "cell_type": "code",
   "execution_count": 12,
   "id": "6a658426",
   "metadata": {},
   "outputs": [],
   "source": [
    "from sklearn.linear_model import LogisticRegression\n",
    "import pandas as pd"
   ]
  },
  {
   "cell_type": "code",
   "execution_count": 13,
   "id": "f0459dfa",
   "metadata": {},
   "outputs": [],
   "source": [
    "df = pd.read_csv(\"UniversalBank.csv\")"
   ]
  },
  {
   "cell_type": "markdown",
   "id": "f5863b3f",
   "metadata": {},
   "source": [
    "Dummifying Variables"
   ]
  },
  {
   "cell_type": "code",
   "execution_count": 14,
   "id": "b465152e",
   "metadata": {},
   "outputs": [],
   "source": [
    "df = pd.get_dummies(df, columns = ['Education'], drop_first=True)"
   ]
  },
  {
   "cell_type": "markdown",
   "id": "f91796f8",
   "metadata": {},
   "source": [
    "Setting Target and Predictors"
   ]
  },
  {
   "cell_type": "code",
   "execution_count": 15,
   "id": "4f23459b",
   "metadata": {},
   "outputs": [],
   "source": [
    "X = df.iloc[:,2:14]\n",
    "y = df[\"Personal Loan\"]"
   ]
  },
  {
   "cell_type": "markdown",
   "id": "6cc23879",
   "metadata": {},
   "source": [
    "Splitting the data into test set and train set"
   ]
  },
  {
   "cell_type": "code",
   "execution_count": 16,
   "id": "97f443d2",
   "metadata": {},
   "outputs": [],
   "source": [
    "from sklearn.model_selection import train_test_split\n",
    "X_train, X_test, y_train, y_test = train_test_split(X, y, test_size = 0.33, random_state = 5)"
   ]
  },
  {
   "cell_type": "markdown",
   "id": "7d0fc52e",
   "metadata": {},
   "source": [
    "Running the regression"
   ]
  },
  {
   "cell_type": "code",
   "execution_count": 17,
   "id": "e09a547b",
   "metadata": {},
   "outputs": [],
   "source": [
    "lr = LogisticRegression(max_iter=5000) \n",
    "model = lr.fit(X_train,y_train) "
   ]
  },
  {
   "cell_type": "markdown",
   "id": "491778e3",
   "metadata": {},
   "source": [
    "Results"
   ]
  },
  {
   "cell_type": "code",
   "execution_count": 18,
   "id": "b9c87848",
   "metadata": {},
   "outputs": [
    {
     "data": {
      "text/plain": [
       "array([[-1.59501286e-02,  1.93645203e-02,  5.35063664e-02,\n",
       "         6.01109865e-01,  1.47261071e-01,  2.17532229e-04,\n",
       "        -4.02879830e-01,  3.11724630e+00, -5.08154080e-01,\n",
       "        -8.92305788e-01,  3.22653589e+00,  3.32614996e+00]])"
      ]
     },
     "execution_count": 18,
     "metadata": {},
     "output_type": "execute_result"
    }
   ],
   "source": [
    "model.intercept_\n",
    "model.coef_"
   ]
  },
  {
   "cell_type": "markdown",
   "id": "3de1bd1b",
   "metadata": {},
   "source": [
    "Prediction based on the test set"
   ]
  },
  {
   "cell_type": "code",
   "execution_count": 19,
   "id": "aa2acfa0",
   "metadata": {},
   "outputs": [],
   "source": [
    "y_test_pred = model.predict(X_test)\n"
   ]
  },
  {
   "cell_type": "markdown",
   "id": "4afdad5e",
   "metadata": {},
   "source": [
    "Accuracy Score"
   ]
  },
  {
   "cell_type": "code",
   "execution_count": 21,
   "id": "6a5a67ac",
   "metadata": {},
   "outputs": [
    {
     "data": {
      "text/plain": [
       "0.9545454545454546"
      ]
     },
     "execution_count": 21,
     "metadata": {},
     "output_type": "execute_result"
    }
   ],
   "source": [
    "from sklearn import metrics\n",
    "metrics.accuracy_score(y_test, y_test_pred)"
   ]
  },
  {
   "cell_type": "markdown",
   "id": "ec10774c",
   "metadata": {},
   "source": [
    "Confusion matrix"
   ]
  },
  {
   "cell_type": "code",
   "execution_count": 23,
   "id": "761a091f",
   "metadata": {},
   "outputs": [
    {
     "name": "stdout",
     "output_type": "stream",
     "text": [
      "        pred:0  pred:1\n",
      "true:0    1475      10\n",
      "true:1      65     100\n"
     ]
    }
   ],
   "source": [
    "print(pd.DataFrame(metrics.confusion_matrix(y_test, y_test_pred, labels=[0,1]), index=['true:0', 'true:1'], columns=['pred:0', 'pred:1']))"
   ]
  },
  {
   "cell_type": "markdown",
   "id": "9a64f7ce",
   "metadata": {},
   "source": [
    "Confusion Matrix are used to evaluate the classification task. We use it to calculate the Recall & Precision"
   ]
  },
  {
   "cell_type": "code",
   "execution_count": 27,
   "id": "bb72fa23",
   "metadata": {},
   "outputs": [
    {
     "name": "stdout",
     "output_type": "stream",
     "text": [
      "Precision 0.9090909090909091\n"
     ]
    }
   ],
   "source": [
    "print('Precision',metrics.precision_score(y_test, y_test_pred))"
   ]
  },
  {
   "cell_type": "code",
   "execution_count": 28,
   "id": "8b67dd42",
   "metadata": {},
   "outputs": [
    {
     "name": "stdout",
     "output_type": "stream",
     "text": [
      "Recall 0.6060606060606061\n"
     ]
    }
   ],
   "source": [
    "print('Recall',metrics.recall_score(y_test, y_test_pred))"
   ]
  },
  {
   "cell_type": "code",
   "execution_count": 29,
   "id": "9e1b4137",
   "metadata": {},
   "outputs": [
    {
     "name": "stdout",
     "output_type": "stream",
     "text": [
      "F1 score 0.7272727272727273\n"
     ]
    }
   ],
   "source": [
    "print('F1 score',metrics.f1_score(y_test, y_test_pred)\n",
    " )"
   ]
  },
  {
   "cell_type": "code",
   "execution_count": null,
   "id": "67c133bc",
   "metadata": {},
   "outputs": [],
   "source": []
  }
 ],
 "metadata": {
  "kernelspec": {
   "display_name": "Python 3 (ipykernel)",
   "language": "python",
   "name": "python3"
  },
  "language_info": {
   "codemirror_mode": {
    "name": "ipython",
    "version": 3
   },
   "file_extension": ".py",
   "mimetype": "text/x-python",
   "name": "python",
   "nbconvert_exporter": "python",
   "pygments_lexer": "ipython3",
   "version": "3.8.16"
  }
 },
 "nbformat": 4,
 "nbformat_minor": 5
}
